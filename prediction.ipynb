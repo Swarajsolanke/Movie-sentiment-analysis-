{
 "cells": [
  {
   "cell_type": "code",
   "execution_count": 39,
   "metadata": {},
   "outputs": [],
   "source": [
    "from tensorflow.keras.datasets import imdb\n",
    "from tensorflow.keras.preprocessing import sequence \n",
    "from tensorflow.keras.models import Sequential\n",
    "from tensorflow.keras.layers import Embedding,SimpleRNN, Dense\n",
    "\n",
    "from tensorflow.keras.layers import Embedding\n",
    "from tensorflow.keras.models import load_model\n"
   ]
  },
  {
   "cell_type": "code",
   "execution_count": 40,
   "metadata": {},
   "outputs": [],
   "source": [
    "word_index=imdb.get_word_index()\n",
    "revers_word_index={value:key for key , value in word_index.items()}\n"
   ]
  },
  {
   "cell_type": "code",
   "execution_count": 42,
   "metadata": {},
   "outputs": [
    {
     "name": "stderr",
     "output_type": "stream",
     "text": [
      "WARNING:absl:Compiled the loaded model, but the compiled metrics have yet to be built. `model.compile_metrics` will be empty until you train or evaluate the model.\n"
     ]
    }
   ],
   "source": [
    "model=load_model('D:\\krishnaik course projects\\SimpleRNN/trained_max_30k.h5')"
   ]
  },
  {
   "cell_type": "code",
   "execution_count": 43,
   "metadata": {},
   "outputs": [
    {
     "data": {
      "text/html": [
       "<pre style=\"white-space:pre;overflow-x:auto;line-height:normal;font-family:Menlo,'DejaVu Sans Mono',consolas,'Courier New',monospace\"><span style=\"font-weight: bold\">Model: \"sequential_2\"</span>\n",
       "</pre>\n"
      ],
      "text/plain": [
       "\u001b[1mModel: \"sequential_2\"\u001b[0m\n"
      ]
     },
     "metadata": {},
     "output_type": "display_data"
    },
    {
     "data": {
      "text/html": [
       "<pre style=\"white-space:pre;overflow-x:auto;line-height:normal;font-family:Menlo,'DejaVu Sans Mono',consolas,'Courier New',monospace\">┏━━━━━━━━━━━━━━━━━━━━━━━━━━━━━━━━━┳━━━━━━━━━━━━━━━━━━━━━━━━┳━━━━━━━━━━━━━━━┓\n",
       "┃<span style=\"font-weight: bold\"> Layer (type)                    </span>┃<span style=\"font-weight: bold\"> Output Shape           </span>┃<span style=\"font-weight: bold\">       Param # </span>┃\n",
       "┡━━━━━━━━━━━━━━━━━━━━━━━━━━━━━━━━━╇━━━━━━━━━━━━━━━━━━━━━━━━╇━━━━━━━━━━━━━━━┩\n",
       "│ embedding_2 (<span style=\"color: #0087ff; text-decoration-color: #0087ff\">Embedding</span>)         │ (<span style=\"color: #00af00; text-decoration-color: #00af00\">32</span>, <span style=\"color: #00af00; text-decoration-color: #00af00\">500</span>, <span style=\"color: #00af00; text-decoration-color: #00af00\">128</span>)         │     <span style=\"color: #00af00; text-decoration-color: #00af00\">3,840,000</span> │\n",
       "├─────────────────────────────────┼────────────────────────┼───────────────┤\n",
       "│ simple_rnn_2 (<span style=\"color: #0087ff; text-decoration-color: #0087ff\">SimpleRNN</span>)        │ (<span style=\"color: #00af00; text-decoration-color: #00af00\">32</span>, <span style=\"color: #00af00; text-decoration-color: #00af00\">128</span>)              │        <span style=\"color: #00af00; text-decoration-color: #00af00\">32,896</span> │\n",
       "├─────────────────────────────────┼────────────────────────┼───────────────┤\n",
       "│ dense_2 (<span style=\"color: #0087ff; text-decoration-color: #0087ff\">Dense</span>)                 │ (<span style=\"color: #00af00; text-decoration-color: #00af00\">32</span>, <span style=\"color: #00af00; text-decoration-color: #00af00\">1</span>)                │           <span style=\"color: #00af00; text-decoration-color: #00af00\">129</span> │\n",
       "└─────────────────────────────────┴────────────────────────┴───────────────┘\n",
       "</pre>\n"
      ],
      "text/plain": [
       "┏━━━━━━━━━━━━━━━━━━━━━━━━━━━━━━━━━┳━━━━━━━━━━━━━━━━━━━━━━━━┳━━━━━━━━━━━━━━━┓\n",
       "┃\u001b[1m \u001b[0m\u001b[1mLayer (type)                   \u001b[0m\u001b[1m \u001b[0m┃\u001b[1m \u001b[0m\u001b[1mOutput Shape          \u001b[0m\u001b[1m \u001b[0m┃\u001b[1m \u001b[0m\u001b[1m      Param #\u001b[0m\u001b[1m \u001b[0m┃\n",
       "┡━━━━━━━━━━━━━━━━━━━━━━━━━━━━━━━━━╇━━━━━━━━━━━━━━━━━━━━━━━━╇━━━━━━━━━━━━━━━┩\n",
       "│ embedding_2 (\u001b[38;5;33mEmbedding\u001b[0m)         │ (\u001b[38;5;34m32\u001b[0m, \u001b[38;5;34m500\u001b[0m, \u001b[38;5;34m128\u001b[0m)         │     \u001b[38;5;34m3,840,000\u001b[0m │\n",
       "├─────────────────────────────────┼────────────────────────┼───────────────┤\n",
       "│ simple_rnn_2 (\u001b[38;5;33mSimpleRNN\u001b[0m)        │ (\u001b[38;5;34m32\u001b[0m, \u001b[38;5;34m128\u001b[0m)              │        \u001b[38;5;34m32,896\u001b[0m │\n",
       "├─────────────────────────────────┼────────────────────────┼───────────────┤\n",
       "│ dense_2 (\u001b[38;5;33mDense\u001b[0m)                 │ (\u001b[38;5;34m32\u001b[0m, \u001b[38;5;34m1\u001b[0m)                │           \u001b[38;5;34m129\u001b[0m │\n",
       "└─────────────────────────────────┴────────────────────────┴───────────────┘\n"
      ]
     },
     "metadata": {},
     "output_type": "display_data"
    },
    {
     "data": {
      "text/html": [
       "<pre style=\"white-space:pre;overflow-x:auto;line-height:normal;font-family:Menlo,'DejaVu Sans Mono',consolas,'Courier New',monospace\"><span style=\"font-weight: bold\"> Total params: </span><span style=\"color: #00af00; text-decoration-color: #00af00\">3,873,027</span> (14.77 MB)\n",
       "</pre>\n"
      ],
      "text/plain": [
       "\u001b[1m Total params: \u001b[0m\u001b[38;5;34m3,873,027\u001b[0m (14.77 MB)\n"
      ]
     },
     "metadata": {},
     "output_type": "display_data"
    },
    {
     "data": {
      "text/html": [
       "<pre style=\"white-space:pre;overflow-x:auto;line-height:normal;font-family:Menlo,'DejaVu Sans Mono',consolas,'Courier New',monospace\"><span style=\"font-weight: bold\"> Trainable params: </span><span style=\"color: #00af00; text-decoration-color: #00af00\">3,873,025</span> (14.77 MB)\n",
       "</pre>\n"
      ],
      "text/plain": [
       "\u001b[1m Trainable params: \u001b[0m\u001b[38;5;34m3,873,025\u001b[0m (14.77 MB)\n"
      ]
     },
     "metadata": {},
     "output_type": "display_data"
    },
    {
     "data": {
      "text/html": [
       "<pre style=\"white-space:pre;overflow-x:auto;line-height:normal;font-family:Menlo,'DejaVu Sans Mono',consolas,'Courier New',monospace\"><span style=\"font-weight: bold\"> Non-trainable params: </span><span style=\"color: #00af00; text-decoration-color: #00af00\">0</span> (0.00 B)\n",
       "</pre>\n"
      ],
      "text/plain": [
       "\u001b[1m Non-trainable params: \u001b[0m\u001b[38;5;34m0\u001b[0m (0.00 B)\n"
      ]
     },
     "metadata": {},
     "output_type": "display_data"
    },
    {
     "data": {
      "text/html": [
       "<pre style=\"white-space:pre;overflow-x:auto;line-height:normal;font-family:Menlo,'DejaVu Sans Mono',consolas,'Courier New',monospace\"><span style=\"font-weight: bold\"> Optimizer params: </span><span style=\"color: #00af00; text-decoration-color: #00af00\">2</span> (12.00 B)\n",
       "</pre>\n"
      ],
      "text/plain": [
       "\u001b[1m Optimizer params: \u001b[0m\u001b[38;5;34m2\u001b[0m (12.00 B)\n"
      ]
     },
     "metadata": {},
     "output_type": "display_data"
    }
   ],
   "source": [
    "model.summary()"
   ]
  },
  {
   "cell_type": "code",
   "execution_count": 44,
   "metadata": {},
   "outputs": [
    {
     "data": {
      "text/plain": [
       "[array([[-1.10830534e+00,  5.58721274e-02,  1.07124245e+00, ...,\n",
       "         -1.06718063e+00,  1.26598805e-01,  7.19094217e-01],\n",
       "        [-1.00675665e-01,  8.27815980e-02,  1.22627929e-01, ...,\n",
       "         -1.09560721e-01,  8.26071540e-04,  1.01889476e-01],\n",
       "        [-9.79119614e-02,  7.52931386e-02,  1.18432425e-01, ...,\n",
       "         -1.18940257e-01,  6.78009689e-02,  1.19810469e-01],\n",
       "        ...,\n",
       "        [ 2.46326067e-02,  1.70626640e-02,  1.79250184e-02, ...,\n",
       "         -3.56680527e-02,  2.11526304e-02,  3.49356085e-02],\n",
       "        [ 2.18079034e-02, -4.83103432e-02, -7.75251985e-02, ...,\n",
       "         -1.69651825e-02, -3.39822248e-02, -3.26661840e-02],\n",
       "        [ 4.08406630e-02, -2.85072308e-02,  1.38732307e-02, ...,\n",
       "         -1.28055643e-02,  4.49320637e-02,  1.51458755e-02]], dtype=float32),\n",
       " array([[-0.00631988,  0.1455623 , -0.12524568, ..., -0.00465725,\n",
       "          0.08012342, -0.0459753 ],\n",
       "        [ 0.02407815,  0.13678229, -0.02270493, ..., -0.05283258,\n",
       "          0.10560007, -0.04486463],\n",
       "        [ 0.04892859, -0.0301837 ,  0.01256723, ..., -0.02602703,\n",
       "          0.0041858 , -0.18013377],\n",
       "        ...,\n",
       "        [-0.05070459, -0.07818394, -0.0318667 , ..., -0.00259247,\n",
       "          0.0738536 ,  0.15439036],\n",
       "        [ 0.11255646, -0.02566992, -0.09346879, ..., -0.11855293,\n",
       "          0.077719  , -0.16632171],\n",
       "        [ 0.11240026,  0.00309955, -0.08226167, ...,  0.1097243 ,\n",
       "         -0.09546678,  0.00931663]], dtype=float32),\n",
       " array([[ 0.03227464,  0.14465135,  0.12017076, ...,  0.05004479,\n",
       "          0.27614334,  0.09876845],\n",
       "        [ 0.05378776,  0.08672369,  0.00756453, ...,  0.03490594,\n",
       "          0.18307453, -0.08425122],\n",
       "        [-0.00842211, -0.06753206, -0.05998928, ..., -0.08662725,\n",
       "          0.10161123,  0.07770464],\n",
       "        ...,\n",
       "        [-0.14391713,  0.01555725, -0.15700966, ...,  0.01819074,\n",
       "          0.02246556, -0.00189455],\n",
       "        [-0.08685157,  0.10769382, -0.06815758, ...,  0.04545615,\n",
       "         -0.24540295, -0.20397922],\n",
       "        [ 0.01623131,  0.19054295,  0.04040841, ..., -0.04119392,\n",
       "          0.0003283 , -0.046584  ]], dtype=float32),\n",
       " array([-0.06396107, -0.01479528,  0.03354577,  0.00594249,  0.08002675,\n",
       "         0.00029346, -0.02158484, -0.01568457,  0.00729326,  0.00889472,\n",
       "        -0.04431425,  0.0460435 , -0.00642261, -0.01763074, -0.00989067,\n",
       "        -0.01827817, -0.04738247, -0.00329497, -0.05346302,  0.01138022,\n",
       "        -0.03948919,  0.00577931, -0.02663517,  0.00013176, -0.00518394,\n",
       "        -0.04146228, -0.00174667, -0.00591696, -0.00635012,  0.0052813 ,\n",
       "        -0.02885567,  0.01648974, -0.00649512, -0.04359545, -0.01128227,\n",
       "        -0.04592501, -0.03651388, -0.05269782,  0.01794489, -0.00622043,\n",
       "        -0.01677522, -0.00937162, -0.02181586,  0.00281675, -0.03480435,\n",
       "         0.04177013, -0.01435198, -0.04725979,  0.04500065,  0.00753483,\n",
       "         0.05059095, -0.05546921,  0.04522944, -0.02663665,  0.00238895,\n",
       "        -0.00997146,  0.05178892, -0.02217927, -0.05979988, -0.05411384,\n",
       "         0.00473177, -0.05174151,  0.00426689, -0.03644673, -0.0334336 ,\n",
       "        -0.03099454, -0.0042875 , -0.05049959, -0.00357226, -0.04981332,\n",
       "         0.0094113 , -0.05887353, -0.00133867, -0.06712081,  0.01365272,\n",
       "         0.00566098, -0.0500925 , -0.00351599,  0.00706241,  0.01699223,\n",
       "         0.05879213, -0.03683898, -0.03294901, -0.02312116, -0.05035806,\n",
       "        -0.05327117, -0.02188746, -0.00253636, -0.03796377,  0.01272703,\n",
       "        -0.0095975 , -0.0501726 , -0.06727558, -0.07055227, -0.00848933,\n",
       "        -0.04840136, -0.01987405, -0.0173394 , -0.00101607,  0.0519882 ,\n",
       "        -0.01546791,  0.01508295,  0.02288645, -0.04492508, -0.06064017,\n",
       "        -0.04608001, -0.02582002, -0.05959621, -0.01463812, -0.03495413,\n",
       "         0.02422457, -0.02573382, -0.02914543, -0.04542072, -0.00999704,\n",
       "         0.07306936, -0.01534029,  0.07944813, -0.06689707, -0.03272658,\n",
       "        -0.0297083 , -0.0463945 ,  0.01770021, -0.02723782, -0.02709153,\n",
       "        -0.01143759, -0.0065282 , -0.00203032], dtype=float32),\n",
       " array([[ 0.00702769],\n",
       "        [ 0.15009546],\n",
       "        [ 0.21415354],\n",
       "        [ 0.05107445],\n",
       "        [ 0.0833756 ],\n",
       "        [-0.17493576],\n",
       "        [ 0.00188431],\n",
       "        [-0.18270507],\n",
       "        [ 0.01662037],\n",
       "        [ 0.00545132],\n",
       "        [-0.00458904],\n",
       "        [-0.18785703],\n",
       "        [ 0.09955359],\n",
       "        [-0.15146844],\n",
       "        [-0.00461076],\n",
       "        [ 0.11924348],\n",
       "        [-0.16106471],\n",
       "        [-0.24013732],\n",
       "        [-0.14789695],\n",
       "        [-0.04623089],\n",
       "        [-0.28517053],\n",
       "        [ 0.42927992],\n",
       "        [-0.17083438],\n",
       "        [-0.02611477],\n",
       "        [-0.1276437 ],\n",
       "        [-0.14242649],\n",
       "        [-0.24021527],\n",
       "        [-0.21684064],\n",
       "        [ 0.01511104],\n",
       "        [ 0.05463571],\n",
       "        [ 0.17498976],\n",
       "        [-0.02386742],\n",
       "        [-0.10600406],\n",
       "        [-0.02847011],\n",
       "        [-0.1492107 ],\n",
       "        [ 0.02984654],\n",
       "        [ 0.09654844],\n",
       "        [ 0.1398427 ],\n",
       "        [-0.21630979],\n",
       "        [ 0.28339723],\n",
       "        [-0.04545501],\n",
       "        [ 0.08813806],\n",
       "        [ 0.17447269],\n",
       "        [-0.15577129],\n",
       "        [-0.05197599],\n",
       "        [ 0.23129246],\n",
       "        [ 0.18900292],\n",
       "        [ 0.05812365],\n",
       "        [-0.01261418],\n",
       "        [ 0.14592364],\n",
       "        [-0.04620561],\n",
       "        [-0.13652134],\n",
       "        [ 0.15277341],\n",
       "        [ 0.07590926],\n",
       "        [ 0.13059916],\n",
       "        [-0.10731005],\n",
       "        [ 0.12876365],\n",
       "        [-0.00980479],\n",
       "        [ 0.13332336],\n",
       "        [-0.17735668],\n",
       "        [-0.19112161],\n",
       "        [-0.09724755],\n",
       "        [-0.12762634],\n",
       "        [ 0.15833437],\n",
       "        [ 0.1846125 ],\n",
       "        [-0.23893592],\n",
       "        [ 0.05541587],\n",
       "        [-0.03280281],\n",
       "        [ 0.03368439],\n",
       "        [ 0.1019904 ],\n",
       "        [ 0.1467692 ],\n",
       "        [ 0.02664196],\n",
       "        [ 0.11958402],\n",
       "        [-0.24757528],\n",
       "        [ 0.11993288],\n",
       "        [-0.12830037],\n",
       "        [-0.05795275],\n",
       "        [ 0.00079748],\n",
       "        [ 0.14518966],\n",
       "        [-0.2641231 ],\n",
       "        [-0.08829527],\n",
       "        [-0.06500375],\n",
       "        [-0.20035592],\n",
       "        [-0.02667057],\n",
       "        [-0.11409549],\n",
       "        [ 0.08793201],\n",
       "        [-0.14566493],\n",
       "        [-0.13411215],\n",
       "        [ 0.09536841],\n",
       "        [-0.13609396],\n",
       "        [ 0.16120169],\n",
       "        [-0.09878006],\n",
       "        [-0.16563457],\n",
       "        [-0.30980816],\n",
       "        [-0.03208327],\n",
       "        [ 0.05742338],\n",
       "        [ 0.00999725],\n",
       "        [ 0.21020517],\n",
       "        [-0.12684202],\n",
       "        [ 0.13735342],\n",
       "        [-0.1102651 ],\n",
       "        [-0.05050961],\n",
       "        [-0.19893098],\n",
       "        [ 0.00645739],\n",
       "        [ 0.07091955],\n",
       "        [ 0.04656823],\n",
       "        [ 0.06183619],\n",
       "        [ 0.11647619],\n",
       "        [ 0.17033318],\n",
       "        [ 0.13275458],\n",
       "        [-0.08621799],\n",
       "        [ 0.16067322],\n",
       "        [-0.0398218 ],\n",
       "        [-0.08275288],\n",
       "        [ 0.12426163],\n",
       "        [ 0.13339733],\n",
       "        [-0.21024989],\n",
       "        [-0.11159   ],\n",
       "        [ 0.16467015],\n",
       "        [ 0.1811333 ],\n",
       "        [ 0.052317  ],\n",
       "        [ 0.03572518],\n",
       "        [-0.08904674],\n",
       "        [ 0.18922472],\n",
       "        [-0.40856832],\n",
       "        [-0.02485034],\n",
       "        [-0.0134411 ],\n",
       "        [ 0.05287826]], dtype=float32),\n",
       " array([-0.38157725], dtype=float32)]"
      ]
     },
     "execution_count": 44,
     "metadata": {},
     "output_type": "execute_result"
    }
   ],
   "source": [
    "model.get_weights()"
   ]
  },
  {
   "cell_type": "code",
   "execution_count": 45,
   "metadata": {},
   "outputs": [],
   "source": [
    "#helper function to decode the value \n",
    "def decode_review(decode_review):\n",
    "    return ' '.join([revers_word_index.get(i-3,'?') for i in decode_review])\n",
    "def preprocess(text):\n",
    "    words=text.lower().split()\n",
    "    decoded=[word_index.get(word,2)+3 for word in words]\n",
    "    padded_review=sequence.pad_sequences([decoded],maxlen=500)\n",
    "    return padded_review"
   ]
  },
  {
   "cell_type": "code",
   "execution_count": 46,
   "metadata": {},
   "outputs": [],
   "source": [
    "#prediction function \n",
    "def predict_sentiment(review):\n",
    "    preprocessed_input=preprocess(review)\n",
    "    prediction=model.predict(preprocessed_input)\n",
    "    sentiment='positive' if prediction[0][0]>0.5 else 'nagetive'\n",
    "    return sentiment,prediction[0][0]"
   ]
  },
  {
   "cell_type": "code",
   "execution_count": 47,
   "metadata": {},
   "outputs": [],
   "source": [
    "review=\"this film was just brilliant casting location scenery story direction everyones really suited the part they played and you could just imagine being there robert ? is an amazing actor and now the same being director ? father came from the same scottish island as myself so i loved the fact there was a real connection with this film the witty remarks throughout the film were great it was just brilliant so much that i bought the film as soon as it was released for ? and would recommend it to everyone to watch and the fly fishing was amazing really cried at the end it was so sad and you know what they say if you cry at a film it must have been good and this definitely was also ? to the two little boy's that played the ? of norman and paul they were just brilliant children are often left out of the ? list i think because the stars that play them all grown up are such a big profile for the whole film but these children are amazing and should be praised for what they have done don't you think the whole story was so lovely because it was true and was someones life after all that was shared with us all\""
   ]
  },
  {
   "cell_type": "code",
   "execution_count": 50,
   "metadata": {},
   "outputs": [
    {
     "name": "stdout",
     "output_type": "stream",
     "text": [
      "\u001b[1m1/1\u001b[0m \u001b[32m━━━━━━━━━━━━━━━━━━━━\u001b[0m\u001b[37m\u001b[0m \u001b[1m0s\u001b[0m 30ms/step\n",
      "the positive statement\n",
      "overall 0.9341371059417725 of the model\n"
     ]
    }
   ],
   "source": [
    "sentiment,score =predict_sentiment(review)\n",
    "print(f'the {sentiment} statement')\n",
    "print(f'overall {score} of the model')\n"
   ]
  },
  {
   "cell_type": "code",
   "execution_count": null,
   "metadata": {},
   "outputs": [],
   "source": []
  },
  {
   "cell_type": "code",
   "execution_count": null,
   "metadata": {},
   "outputs": [],
   "source": []
  }
 ],
 "metadata": {
  "kernelspec": {
   "display_name": "Python 3",
   "language": "python",
   "name": "python3"
  },
  "language_info": {
   "codemirror_mode": {
    "name": "ipython",
    "version": 3
   },
   "file_extension": ".py",
   "mimetype": "text/x-python",
   "name": "python",
   "nbconvert_exporter": "python",
   "pygments_lexer": "ipython3",
   "version": "3.10.14"
  }
 },
 "nbformat": 4,
 "nbformat_minor": 2
}
